{
 "cells": [
  {
   "attachments": {},
   "cell_type": "markdown",
   "metadata": {},
   "source": [
    "Data inporting and setup\n"
   ]
  },
  {
   "cell_type": "code",
   "execution_count": 60,
   "metadata": {},
   "outputs": [],
   "source": [
    "\n",
    "'''imports and setting up our plot as well as dataset setup'''\n",
    "import pandas as pd\n",
    "import numpy as np\n",
    "import seaborn as sns\n",
    "import matplotlib.pyplot as plt\n",
    "from matplotlib import rcParams\n",
    "from sklearn import model_selection\n",
    "\n",
    "plt.style.use('ggplot')\n",
    "rcParams['figure.figsize'] = (12,6)\n",
    "\n",
    "dataset = pd.read_csv(\"breast_cancer.csv\")\n",
    "# preprocessing of data\n",
    "dataset.replace('?', -99999, inplace=True)\n",
    "# get all the data into columns\n",
    "columns = dataset.columns.tolist()\n",
    "# remove class and id as they have no effect on the prediction\n",
    "columns = [c for c in columns if c not in [\"Class\", \"ID\"]]\n",
    "# storing the variable we will prredict with\n",
    "target = 'Class'\n",
    "\n",
    "X = dataset[columns]\n",
    "y = dataset[target]\n",
    "num_1 = 0\n",
    "y = y.map({2: 0, 4: 1})\n",
    "x_train, x_test, y_train, y_test = model_selection.train_test_split(\n",
    "    X, y, train_size=0.7, random_state=0)"
   ]
  },
  {
   "cell_type": "code",
   "execution_count": 2,
   "metadata": {},
   "outputs": [
    {
     "name": "stdout",
     "output_type": "stream",
     "text": [
      "Mean Training Accuracy:  98.31919243547149 \n",
      "Mean Training Precision:  0.9609596423109823 \n",
      "Mean Training Recall:  0.9916990500863558 \n",
      "Mean Training F1 Score:  0.9760415668173797 \n",
      "Mean Validation Accuracy:  95.42651593011306 \n",
      "Mean Validation Precision:  0.9425372866127584 \n",
      "Mean Validation Recall:  0.9252551020408163 \n",
      "Mean Validation F1 Score:  0.9323327327819282\n"
     ]
    }
   ],
   "source": [
    "from sklearn.ensemble import GradientBoostingClassifier\n",
    "\n",
    "gradient_boosting_model = GradientBoostingClassifier(learning_rate=0.05, n_estimators=72, max_depth=5, min_samples_split=50,\n",
    "                                       min_samples_leaf=5, subsample=0.8, random_state=10, max_features=3, warm_start=True)\n",
    "    # learning_rate = determines the impact of each tree on the final outcome, low values preferred to make tree robust but need more trees (n_estimators) to model all the relations\n",
    "    # n_estimators = number of sequential trees to be modeled, can cause over-fitting so it should be balanced with learning rate\n",
    "    # max_depth = maximum depth of a tree, higher depth -> more specific -> over-fitting, only ~ 560 samples so low end number 5\n",
    "    # min_samples_split = minimum number of samples required in a node to be splitted, ~ 0.5-1% of samples\n",
    "    # min_samples_leaf = minimum number of samples required in a leaf, ~ a 10th of split\n",
    "    # subsample =  fraction (%) of observations to be selected for each tree, between 0.7 and 1 are good, strengthening values\n",
    "    # random_state = random number seed so that same random numbers are generated every time, if not fixed -> different outcomes for subsequent runs\n",
    "    # max_features = number of features to consider while searching for best split, 30-40% of total features, higher value -> CAN cause over-fitting\n",
    "    # warm_start = fit additional trees on previous fits of a model, can use it to increase the number of estimators in small steps and test different values without having to run from scratch\n",
    "scoring = ['accuracy', 'precision', 'recall', 'f1']\n",
    "\n",
    "results = model_selection.cross_validate(\n",
    "        estimator=gradient_boosting_model, X=X, y=y, cv=5, scoring=scoring, return_train_score=True)\n",
    "print(\"Mean Training Accuracy: \", results['train_accuracy'].mean()*100,\n",
    "          \"\\nMean Training Precision: \", results['train_precision'].mean(),\n",
    "          \"\\nMean Training Recall: \", results['train_recall'].mean(),\n",
    "          \"\\nMean Training F1 Score: \", results['train_f1'].mean(),\n",
    "          \"\\nMean Validation Accuracy: \", results['test_accuracy'].mean()*100,\n",
    "          \"\\nMean Validation Precision: \", results['test_precision'].mean(),\n",
    "          \"\\nMean Validation Recall: \", results['test_recall'].mean(),\n",
    "          \"\\nMean Validation F1 Score: \", results['test_f1'].mean()\n",
    "          )\n",
    "    \n"
   ]
  },
  {
   "attachments": {},
   "cell_type": "markdown",
   "metadata": {},
   "source": [
    "funciton to test the seperate parameters and their results on the train time and precision"
   ]
  },
  {
   "cell_type": "code",
   "execution_count": null,
   "metadata": {},
   "outputs": [],
   "source": [
    "def plot_results(model, param = 'n_estimators', name = 'Num Trees'):\n",
    "    param_name = 'param_%s' % param\n",
    "    \n",
    "    # Extract information from the cross validation model\n",
    "    test_scores = model.cv_results_['mean_test_score']\n",
    "    train_time = model.cv_results_['mean_fit_time']\n",
    "    param_values = list(model.cv_results_[param_name])\n",
    "    \n",
    "    # Plot the scores over the parameter\n",
    "    plt.subplots(1, 2, figsize=(10, 6))\n",
    "    plt.subplot(121)\n",
    "    \n",
    "\n",
    "    plt.plot(param_values, test_scores, '-', label = 'test')\n",
    "    plt.ylim(ymin = -0.5, ymax = 0)\n",
    "    plt.legend()\n",
    "    plt.xlabel(name)\n",
    "    plt.ylabel('Neg Mean Absolute Error')\n",
    "    plt.title('Score vs %s' % name)\n",
    "    \n",
    "    plt.subplot(122)\n",
    "    plt.plot(param_values, train_time, '-')\n",
    "    plt.ylim(ymin = 0.0, ymax = 1.25)\n",
    "    plt.xlabel(name)\n",
    "    plt.ylabel('Train Time (sec)')\n",
    "    plt.title('Training Time vs %s' % name)\n",
    "    \n",
    "    \n",
    "    plt.tight_layout(pad = 4)"
   ]
  },
  {
   "attachments": {},
   "cell_type": "markdown",
   "metadata": {},
   "source": [
    "parameter tests"
   ]
  },
  {
   "attachments": {},
   "cell_type": "markdown",
   "metadata": {},
   "source": [
    "function to evaluate the models "
   ]
  },
  {
   "cell_type": "code",
   "execution_count": 37,
   "metadata": {},
   "outputs": [],
   "source": [
    "from sklearn import metrics\n",
    "def evaluate(model, test_features, test_labels):\n",
    "    predictions = model.predict(test_features)\n",
    "    accuracy = metrics.accuracy_score(test_labels,predictions)\n",
    "    precision = metrics.precision_score(test_labels, predictions)\n",
    "    f1_score = metrics.f1_score(test_labels, predictions)\n",
    "\n",
    "    return f1_score"
   ]
  },
  {
   "cell_type": "code",
   "execution_count": 62,
   "metadata": {},
   "outputs": [
    {
     "name": "stdout",
     "output_type": "stream",
     "text": [
      "Fitting 5 folds for each of 1600 candidates, totalling 8000 fits\n",
      "0.9411764705882353\n",
      "{'max_depth': 16, 'max_features': 1, 'n_estimators': 171}\n",
      "[(<bound method BaseEstimator.get_params of GradientBoostingClassifier(n_estimators=10, random_state=42)>, 0.9290322580645162), ({'max_depth': 16, 'max_features': 1, 'n_estimators': 171}, 0.9411764705882353)]\n"
     ]
    }
   ],
   "source": [
    "#perform first grid search to tune our learning rate to the number of trees as these are linked\n",
    "\n",
    "from sklearn.model_selection import GridSearchCV\n",
    "\n",
    "param_grid = {\n",
    "    'n_estimators': np.arange(1,250,10),\n",
    "    'max_features': np.arange(1,40,5),\n",
    "    'max_depth': np.arange(1,40,5)\n",
    "    \n",
    "}\n",
    "\n",
    "GBAgrid_model = model_selection.GridSearchCV(estimator = GradientBoostingClassifier(random_state=42), param_grid = param_grid, \n",
    "                                 cv = 5, n_jobs = -1, scoring='f1',verbose = 1, return_train_score=True)\n",
    "\n",
    "GBAgrid_model.fit(x_train,y_train)\n",
    "\n",
    "print(evaluate(GBAgrid_model, x_test,y_test))\n",
    "\n",
    "print(GBAgrid_model.best_params_)\n",
    "\n",
    "scores_of_models = []\n",
    "base_model = GradientBoostingClassifier(n_estimators = 10, random_state = 42)\n",
    "base_model.fit(x_train, y_train)\n",
    "scores_of_models.append((base_model.get_params, evaluate(base_model, x_test,y_test)))\n",
    "scores_of_models.append((GBAgrid_model.best_params_, evaluate(GBAgrid_model, x_test,y_test)))\n",
    "print(scores_of_models)\n"
   ]
  },
  {
   "cell_type": "code",
   "execution_count": 63,
   "metadata": {},
   "outputs": [
    {
     "name": "stdout",
     "output_type": "stream",
     "text": [
      "Fitting 5 folds for each of 180 candidates, totalling 900 fits\n",
      "[(<bound method BaseEstimator.get_params of GradientBoostingClassifier(n_estimators=10, random_state=42)>, 0.9290322580645162), ({'max_depth': 16, 'max_features': 1, 'n_estimators': 171}, 0.9411764705882353), ({'max_depth': 13, 'n_estimators': 164}, 0.948051948051948)]\n"
     ]
    }
   ],
   "source": [
    "param_grid = {'n_estimators': np.arange(161,181,1),\n",
    "'max_depth': np.arange(12,21,1)}\n",
    "\n",
    "GBAgrid_model = model_selection.GridSearchCV(estimator = GradientBoostingClassifier(max_features=1), param_grid = param_grid, \n",
    "                                 cv = 5, n_jobs = -1, scoring='f1',verbose = 1, return_train_score=True)\n",
    "GBAgrid_model.fit(x_train,y_train)\n",
    "scores_of_models.append((GBAgrid_model.best_params_, evaluate(GBAgrid_model, x_test,y_test)))\n",
    "print(scores_of_models)"
   ]
  },
  {
   "cell_type": "code",
   "execution_count": 64,
   "metadata": {},
   "outputs": [
    {
     "data": {
      "image/png": "[encoded data removed]",
      "text/plain": [
       "<Figure size 864x432 with 1 Axes>"
      ]
     },
     "metadata": {},
     "output_type": "display_data"
    }
   ],
   "source": [
    "temp_scores = []\n",
    "for i in scores_of_models:\n",
    "    temp_scores.append(i[1])\n",
    "plt.plot([1,2,3], temp_scores, '-', label = 'test')\n",
    "plt.legend()\n",
    "plt.ylabel('f1 score')\n",
    "plt.ylim(ymin = 0.9, ymax = 1)\n",
    "plt.show()"
   ]
  },
  {
   "attachments": {},
   "cell_type": "markdown",
   "metadata": {},
   "source": [
    "learning rate"
   ]
  },
  {
   "cell_type": "code",
   "execution_count": 76,
   "metadata": {},
   "outputs": [
    {
     "name": "stdout",
     "output_type": "stream",
     "text": [
      "Fitting 5 folds for each of 99 candidates, totalling 495 fits\n",
      "0.9342105263157895\n",
      "<bound method BaseEstimator.get_params of GradientBoostingClassifier(learning_rate=0.55, max_depth=14, max_features=1,\n",
      "                           n_estimators=172, random_state=42)>\n",
      "[(<bound method BaseEstimator.get_params of GradientBoostingClassifier(n_estimators=10, random_state=42)>, 0.9290322580645162), ({'learning_rate': 0.55}, 0.9342105263157895)]\n"
     ]
    }
   ],
   "source": [
    "param_grid = {\n",
    "    'learning_rate': np.arange(0.01,1,0.01)\n",
    "    \n",
    "}\n",
    "\n",
    "GBAgrid_model = model_selection.GridSearchCV(estimator = GradientBoostingClassifier(max_depth= 14,n_estimators= 172,random_state=42, max_features=1), param_grid = param_grid, \n",
    "                                 cv = 5, n_jobs = -1, scoring='f1',verbose = 1, return_train_score=True)\n",
    "\n",
    "GBAgrid_model.fit(x_train,y_train)\n",
    "\n",
    "print(evaluate(GBAgrid_model, x_test,y_test))\n",
    "\n",
    "print(GBAgrid_model.best_estimator_.get_params)\n",
    "\n",
    "scores_of_models = []\n",
    "base_model = GradientBoostingClassifier(n_estimators = 10, random_state = 42)\n",
    "base_model.fit(x_train, y_train)\n",
    "scores_of_models.append((base_model.get_params, evaluate(base_model, x_test,y_test)))\n",
    "scores_of_models.append((GBAgrid_model.best_params_, evaluate(GBAgrid_model, x_test,y_test)))\n",
    "print(scores_of_models)"
   ]
  },
  {
   "cell_type": "code",
   "execution_count": 77,
   "metadata": {},
   "outputs": [
    {
     "name": "stdout",
     "output_type": "stream",
     "text": [
      "Fitting 5 folds for each of 200 candidates, totalling 1000 fits\n",
      "[(<bound method BaseEstimator.get_params of GradientBoostingClassifier(n_estimators=10, random_state=42)>, 0.9290322580645162), ({'learning_rate': 0.55}, 0.9342105263157895), ({'learning_rate': 0.5830000000000002}, 0.9411764705882353)]\n"
     ]
    }
   ],
   "source": [
    "param_grid = {'learning_rate': np.arange(0.4,0.6,0.001),\n",
    "}\n",
    "\n",
    "GBAgrid_model = model_selection.GridSearchCV(estimator = GradientBoostingClassifier(max_depth= 14,n_estimators= 172,random_state=42,max_features=1), param_grid = param_grid, \n",
    "                                 cv = 5, n_jobs = -1, scoring='f1',verbose = 1, return_train_score=True)\n",
    "GBAgrid_model.fit(x_train,y_train)\n",
    "scores_of_models.append((GBAgrid_model.best_params_, evaluate(GBAgrid_model, x_test,y_test)))\n",
    "print(scores_of_models)"
   ]
  },
  {
   "cell_type": "code",
   "execution_count": 78,
   "metadata": {},
   "outputs": [
    {
     "name": "stdout",
     "output_type": "stream",
     "text": [
      "Fitting 5 folds for each of 500 candidates, totalling 2500 fits\n",
      "[(<bound method BaseEstimator.get_params of GradientBoostingClassifier(n_estimators=10, random_state=42)>, 0.9290322580645162), ({'learning_rate': 0.55}, 0.9342105263157895), ({'learning_rate': 0.5830000000000002}, 0.9411764705882353), ({'learning_rate': 0.5860999999999961}, 0.948051948051948)]\n"
     ]
    }
   ],
   "source": [
    "param_grid = {'learning_rate': np.arange(0.55,0.6,0.0001),\n",
    "}\n",
    "\n",
    "GBAgrid_model = model_selection.GridSearchCV(estimator = GradientBoostingClassifier(max_depth= 14,n_estimators= 172,random_state=42,max_features=1), param_grid = param_grid, \n",
    "                                 cv = 5, n_jobs = -1, scoring='f1',verbose = 1, return_train_score=True)\n",
    "GBAgrid_model.fit(x_train,y_train)\n",
    "scores_of_models.append((GBAgrid_model.best_params_, evaluate(GBAgrid_model, x_test,y_test)))\n",
    "print(scores_of_models)"
   ]
  },
  {
   "cell_type": "code",
   "execution_count": 79,
   "metadata": {},
   "outputs": [
    {
     "name": "stdout",
     "output_type": "stream",
     "text": [
      "Fitting 5 folds for each of 1001 candidates, totalling 5005 fits\n",
      "[(<bound method BaseEstimator.get_params of GradientBoostingClassifier(n_estimators=10, random_state=42)>, 0.9290322580645162), ({'learning_rate': 0.55}, 0.9342105263157895), ({'learning_rate': 0.5830000000000002}, 0.9411764705882353), ({'learning_rate': 0.5860999999999961}, 0.948051948051948), ({'learning_rate': 0.5841899999999809}, 0.948051948051948)]\n"
     ]
    }
   ],
   "source": [
    "param_grid = {'learning_rate': np.arange(0.58,0.59,0.00001),\n",
    "}\n",
    "\n",
    "GBAgrid_model = model_selection.GridSearchCV(estimator = GradientBoostingClassifier(max_depth= 14,n_estimators= 172,random_state=42,max_features=1), param_grid = param_grid, \n",
    "                                 cv = 5, n_jobs = -1, scoring='f1',verbose = 1, return_train_score=True)\n",
    "GBAgrid_model.fit(x_train,y_train)\n",
    "scores_of_models.append((GBAgrid_model.best_params_, evaluate(GBAgrid_model, x_test,y_test)))\n",
    "print(scores_of_models)"
   ]
  },
  {
   "cell_type": "code",
   "execution_count": 80,
   "metadata": {},
   "outputs": [
    {
     "data": {
      "image/png": "[encoded data removed]",
      "text/plain": [
       "<Figure size 864x432 with 1 Axes>"
      ]
     },
     "metadata": {},
     "output_type": "display_data"
    }
   ],
   "source": [
    "temp_scores = []\n",
    "for i in scores_of_models:\n",
    "    temp_scores.append(i[1])\n",
    "plt.plot(np.arange(len(temp_scores)), temp_scores, '-', label = 'test')\n",
    "plt.legend()\n",
    "plt.ylabel('f1 score')\n",
    "plt.ylim(ymin = 0.9, ymax = 1)\n",
    "plt.show()"
   ]
  },
  {
   "attachments": {},
   "cell_type": "markdown",
   "metadata": {},
   "source": [
    "min sample leaf and split"
   ]
  },
  {
   "cell_type": "code",
   "execution_count": 109,
   "metadata": {},
   "outputs": [
    {
     "name": "stdout",
     "output_type": "stream",
     "text": [
      "Fitting 5 folds for each of 225 candidates, totalling 1125 fits\n",
      "0.9271523178807947\n",
      "<bound method BaseEstimator.get_params of GradientBoostingClassifier(learning_rate=0.5841899999999809, max_depth=14,\n",
      "                           max_features=1, min_samples_leaf=0.1,\n",
      "                           min_samples_split=0.44285714285714284,\n",
      "                           n_estimators=172, random_state=42, subsample=1)>\n",
      "[(<bound method BaseEstimator.get_params of GradientBoostingClassifier(n_estimators=10, random_state=42)>, 0.9290322580645162), ({'min_samples_leaf': 0.1, 'min_samples_split': 0.44285714285714284}, 0.9271523178807947)]\n"
     ]
    }
   ],
   "source": [
    "param_grid = {\n",
    "    'min_samples_split': np.linspace(0.1,0.9,15),\n",
    "    'min_samples_leaf': np.linspace(0.1,0.9,15)\n",
    "    \n",
    "}\n",
    "\n",
    "GBAgrid_model = model_selection.GridSearchCV(estimator = GradientBoostingClassifier(max_depth= 14,n_estimators= 172,random_state=42, max_features=1, learning_rate=0.5841899999999809, subsample=1), param_grid = param_grid, \n",
    "                                 cv = 5, n_jobs = -1, scoring='f1',verbose = 1, return_train_score=True)\n",
    "\n",
    "GBAgrid_model.fit(x_train,y_train)\n",
    "\n",
    "print(evaluate(GBAgrid_model, x_test,y_test))\n",
    "\n",
    "print(GBAgrid_model.best_estimator_.get_params)\n",
    "\n",
    "scores_of_models = []\n",
    "base_model = GradientBoostingClassifier(n_estimators = 10, random_state = 42)\n",
    "base_model.fit(x_train, y_train)\n",
    "scores_of_models.append((base_model.get_params, evaluate(base_model, x_test,y_test)))\n",
    "scores_of_models.append((GBAgrid_model.best_params_, evaluate(GBAgrid_model, x_test,y_test)))\n",
    "print(scores_of_models)"
   ]
  },
  {
   "cell_type": "code",
   "execution_count": 112,
   "metadata": {},
   "outputs": [
    {
     "name": "stdout",
     "output_type": "stream",
     "text": [
      "Fitting 5 folds for each of 225 candidates, totalling 1125 fits\n",
      "[(<bound method BaseEstimator.get_params of GradientBoostingClassifier(n_estimators=10, random_state=42)>, 0.9290322580645162), ({'min_samples_leaf': 0.1, 'min_samples_split': 0.44285714285714284}, 0.9271523178807947), ({'min_samples_leaf': 0.015214285714285715, 'min_samples_split': 0.4}, 0.9342105263157895), ({'min_samples_leaf': 0.015214285714285715, 'min_samples_split': 0.4}, 0.9342105263157895)]\n"
     ]
    }
   ],
   "source": [
    "param_grid = {\n",
    "    'min_samples_leaf':np.linspace(0.001,0.2,15),\n",
    "    'min_samples_split': np.linspace(0.4,1,15)\n",
    "}\n",
    "\n",
    "GBAgrid_model = model_selection.GridSearchCV(estimator = GradientBoostingClassifier(max_depth= 14,n_estimators= 172,random_state=42, max_features=1, learning_rate=0.5841899999999809, subsample=1), param_grid = param_grid, \n",
    "                                 cv = 5, n_jobs = -1, scoring='f1',verbose = 1, return_train_score=True)\n",
    "GBAgrid_model.fit(x_train,y_train)\n",
    "scores_of_models.append((GBAgrid_model.best_params_, evaluate(GBAgrid_model, x_test,y_test)))\n",
    "print(scores_of_models)"
   ]
  },
  {
   "cell_type": "code",
   "execution_count": 115,
   "metadata": {},
   "outputs": [
    {
     "name": "stdout",
     "output_type": "stream",
     "text": [
      "Fitting 5 folds for each of 225 candidates, totalling 1125 fits\n",
      "[(<bound method BaseEstimator.get_params of GradientBoostingClassifier(n_estimators=10, random_state=42)>, 0.9290322580645162), ({'min_samples_leaf': 0.1, 'min_samples_split': 0.44285714285714284}, 0.9271523178807947), ({'min_samples_leaf': 0.015214285714285715, 'min_samples_split': 0.4}, 0.9342105263157895), ({'min_samples_leaf': 0.015214285714285715, 'min_samples_split': 0.4}, 0.9342105263157895), ({'min_samples_leaf': 0.015214285714285715, 'min_samples_split': 0.41428571428571426}, 0.9333333333333333)]\n"
     ]
    }
   ],
   "source": [
    "param_grid = {\n",
    "    'min_samples_leaf': np.linspace(0.001,0.2,15),\n",
    "    'min_samples_split': np.linspace(0.3,0.5,15)\n",
    "}\n",
    "\n",
    "GBAgrid_model = model_selection.GridSearchCV(estimator = GradientBoostingClassifier(max_depth= 14,n_estimators= 172,random_state=42, max_features=1, learning_rate=0.5841899999999809, subsample=1), param_grid = param_grid, \n",
    "                                 cv = 5, n_jobs = -1, scoring='f1',verbose = 1, return_train_score=True)\n",
    "GBAgrid_model.fit(x_train,y_train)\n",
    "scores_of_models.append((GBAgrid_model.best_params_, evaluate(GBAgrid_model, x_test,y_test)))\n",
    "print(scores_of_models)"
   ]
  },
  {
   "cell_type": "code",
   "execution_count": 116,
   "metadata": {},
   "outputs": [
    {
     "name": "stdout",
     "output_type": "stream",
     "text": [
      "Fitting 5 folds for each of 225 candidates, totalling 1125 fits\n",
      "[(<bound method BaseEstimator.get_params of GradientBoostingClassifier(n_estimators=10, random_state=42)>, 0.9290322580645162), ({'min_samples_leaf': 0.1, 'min_samples_split': 0.44285714285714284}, 0.9271523178807947), ({'min_samples_leaf': 0.015214285714285715, 'min_samples_split': 0.4}, 0.9342105263157895), ({'min_samples_leaf': 0.015214285714285715, 'min_samples_split': 0.4}, 0.9342105263157895), ({'min_samples_leaf': 0.015214285714285715, 'min_samples_split': 0.41428571428571426}, 0.9333333333333333), ({'min_samples_leaf': 0.012857142857142857, 'min_samples_split': 0.40714285714285714}, 0.9342105263157895)]\n"
     ]
    }
   ],
   "source": [
    "param_grid = {\n",
    "    'min_samples_leaf': np.linspace(0.01,0.02,15),\n",
    "    'min_samples_split': np.linspace(0.4,0.45,15)\n",
    "}\n",
    "\n",
    "GBAgrid_model = model_selection.GridSearchCV(estimator = GradientBoostingClassifier(max_depth= 14,n_estimators= 172,random_state=42, max_features=1, learning_rate=0.5841899999999809, subsample=1), param_grid = param_grid, \n",
    "                                 cv = 5, n_jobs = -1, scoring='f1',verbose = 1, return_train_score=True)\n",
    "GBAgrid_model.fit(x_train,y_train)\n",
    "scores_of_models.append((GBAgrid_model.best_params_, evaluate(GBAgrid_model, x_test,y_test)))\n",
    "print(scores_of_models)"
   ]
  },
  {
   "cell_type": "code",
   "execution_count": 125,
   "metadata": {},
   "outputs": [
    {
     "name": "stdout",
     "output_type": "stream",
     "text": [
      "Fitting 5 folds for each of 225 candidates, totalling 1125 fits\n",
      "[(<bound method BaseEstimator.get_params of GradientBoostingClassifier(n_estimators=10, random_state=42)>, 0.9290322580645162), ({'max_features': 0.001}, 0.9342105263157895), ({'min_samples_leaf': 0.012857142857142857, 'min_samples_split': 0.40714285714285714}, 0.9342105263157895)]\n"
     ]
    }
   ],
   "source": [
    "param_grid = {\n",
    "    'min_samples_leaf': np.linspace(0.01,0.015,15),\n",
    "    'min_samples_split': np.linspace(0.4,0.42,15)\n",
    "}\n",
    "\n",
    "GBAgrid_model = model_selection.GridSearchCV(estimator = GradientBoostingClassifier(max_depth= 14,n_estimators= 172,random_state=42, max_features=1, learning_rate=0.5841899999999809, subsample=1), param_grid = param_grid, \n",
    "                                 cv = 5, n_jobs = -1, scoring='f1',verbose = 1, return_train_score=True)\n",
    "GBAgrid_model.fit(x_train,y_train)\n",
    "scores_of_models.append((GBAgrid_model.best_params_, evaluate(GBAgrid_model, x_test,y_test)))\n",
    "print(scores_of_models)"
   ]
  },
  {
   "cell_type": "code",
   "execution_count": 126,
   "metadata": {},
   "outputs": [
    {
     "data": {
      "image/png": "[encoded data removed]",
      "text/plain": [
       "<Figure size 864x432 with 1 Axes>"
      ]
     },
     "metadata": {},
     "output_type": "display_data"
    }
   ],
   "source": [
    "temp_scores = []\n",
    "for i in scores_of_models:\n",
    "    temp_scores.append(i[1])\n",
    "plt.plot(np.arange(len(temp_scores)), temp_scores, '-', label = 'test')\n",
    "plt.legend()\n",
    "plt.ylabel('f1 score')\n",
    "plt.ylim(ymin = 0.9, ymax = 1)\n",
    "plt.show()"
   ]
  },
  {
   "attachments": {},
   "cell_type": "markdown",
   "metadata": {},
   "source": [
    "now testing subsample"
   ]
  },
  {
   "cell_type": "code",
   "execution_count": 130,
   "metadata": {},
   "outputs": [
    {
     "data": {
      "text/plain": [
       "0.948051948051948"
      ]
     },
     "execution_count": 130,
     "metadata": {},
     "output_type": "execute_result"
    }
   ],
   "source": [
    "best = GBAgrid_model.best_estimator_\n",
    "evaluate(best, x_test,y_test)\n",
    "evaluate(GradientBoostingClassifier(max_depth= 14,n_estimators= 172,random_state=42, max_features=1, learning_rate=0.5841899999999809, subsample=1).fit(x_train,y_train),x_test,y_test)"
   ]
  },
  {
   "attachments": {},
   "cell_type": "markdown",
   "metadata": {},
   "source": [
    "testing the combined dataset\n"
   ]
  },
  {
   "cell_type": "code",
   "execution_count": 133,
   "metadata": {},
   "outputs": [
    {
     "name": "stdout",
     "output_type": "stream",
     "text": [
      "0       2\n",
      "1       8\n",
      "2       2\n",
      "3      16\n",
      "4       2\n",
      "       ..\n",
      "694     2\n",
      "695     2\n",
      "696    20\n",
      "697    14\n",
      "698    16\n",
      "Name: combined variable, Length: 699, dtype: int64\n"
     ]
    },
    {
     "name": "stderr",
     "output_type": "stream",
     "text": [
      "/var/folders/n3/_twj430546db0d30m_f72nrw0000gn/T/ipykernel_24993/4101973112.py:4: FutureWarning: Dropping of nuisance columns in DataFrame reductions (with 'numeric_only=None') is deprecated; in a future version this will raise TypeError.  Select only valid columns before calling the reduction.\n",
      "  combined_dataset['combined variable'] = dataset.loc[:,to_combine].sum(axis=1)\n",
      "/var/folders/n3/_twj430546db0d30m_f72nrw0000gn/T/ipykernel_24993/4101973112.py:4: SettingWithCopyWarning: \n",
      "A value is trying to be set on a copy of a slice from a DataFrame.\n",
      "Try using .loc[row_indexer,col_indexer] = value instead\n",
      "\n",
      "See the caveats in the documentation: https://pandas.pydata.org/pandas-docs/stable/user_guide/indexing.html#returning-a-view-versus-a-copy\n",
      "  combined_dataset['combined variable'] = dataset.loc[:,to_combine].sum(axis=1)\n",
      "/var/folders/n3/_twj430546db0d30m_f72nrw0000gn/T/ipykernel_24993/4101973112.py:5: SettingWithCopyWarning: \n",
      "A value is trying to be set on a copy of a slice from a DataFrame.\n",
      "Try using .loc[row_indexer,col_indexer] = value instead\n",
      "\n",
      "See the caveats in the documentation: https://pandas.pydata.org/pandas-docs/stable/user_guide/indexing.html#returning-a-view-versus-a-copy\n",
      "  combined_dataset['combined variable'] = combined_dataset['combined variable']\n"
     ]
    }
   ],
   "source": [
    "to_combine = ['Uniformity of Cell Size', 'Uniformity of Cell Shape','Bare Nuclei']\n",
    "columns = [c for c in columns if c not in to_combine]\n",
    "combined_dataset = dataset[columns]\n",
    "combined_dataset['combined variable'] = dataset.loc[:,to_combine].sum(axis=1)\n",
    "combined_dataset['combined variable'] = combined_dataset['combined variable'] \n",
    "print(combined_dataset['combined variable'])\n",
    "\n",
    "combined_X = combined_dataset[columns]\n",
    "combined_y = dataset[target]\n",
    "combined_y = combined_y.map({2: 0, 4: 1})\n",
    "combined_x_train, combined_x_test, combined_y_train, combined_y_test = model_selection.train_test_split(\n",
    "    combined_X, combined_y, train_size=0.7, random_state=0)"
   ]
  },
  {
   "cell_type": "code",
   "execution_count": 134,
   "metadata": {},
   "outputs": [
    {
     "name": "stdout",
     "output_type": "stream",
     "text": [
      "Mean Training Accuracy:  99.35624840276003 \n",
      "Mean Training Precision:  0.987649903645844 \n",
      "Mean Training Recall:  0.9937715889464596 \n",
      "Mean Training F1 Score:  0.9906949415095347 \n",
      "Mean Validation Accuracy:  95.99794450154162 \n",
      "Mean Validation Precision:  0.9429649132380226 \n",
      "Mean Validation Recall:  0.9417517006802723 \n",
      "Mean Validation F1 Score:  0.9418288957597085\n"
     ]
    }
   ],
   "source": [
    "scoring = ['accuracy', 'precision', 'recall', 'f1']\n",
    "\n",
    "results = model_selection.cross_validate(\n",
    "        estimator=GradientBoostingClassifier(), X=combined_X, y=combined_y, cv=5, scoring=scoring, return_train_score=True)\n",
    "print(\"Mean Training Accuracy: \", results['train_accuracy'].mean()*100,\n",
    "          \"\\nMean Training Precision: \", results['train_precision'].mean(),\n",
    "          \"\\nMean Training Recall: \", results['train_recall'].mean(),\n",
    "          \"\\nMean Training F1 Score: \", results['train_f1'].mean(),\n",
    "          \"\\nMean Validation Accuracy: \", results['test_accuracy'].mean()*100,\n",
    "          \"\\nMean Validation Precision: \", results['test_precision'].mean(),\n",
    "          \"\\nMean Validation Recall: \", results['test_recall'].mean(),\n",
    "          \"\\nMean Validation F1 Score: \", results['test_f1'].mean()\n",
    "          )"
   ]
  },
  {
   "cell_type": "code",
   "execution_count": 140,
   "metadata": {},
   "outputs": [
    {
     "name": "stdout",
     "output_type": "stream",
     "text": [
      "Fitting 5 folds for each of 960 candidates, totalling 4800 fits\n",
      "0.9333333333333333\n",
      "{'max_depth': 16, 'max_features': 1, 'n_estimators': 31}\n",
      "[(<bound method BaseEstimator.get_params of GradientBoostingClassifier(n_estimators=10, random_state=42)>, 0.9403973509933775), ({'max_depth': 16, 'max_features': 1, 'n_estimators': 31}, 0.9333333333333333)]\n"
     ]
    }
   ],
   "source": [
    "\n",
    "param_grid = {\n",
    "    'n_estimators': np.arange(1,150,10),\n",
    "    'max_features': np.arange(1,40,5),\n",
    "    'max_depth': np.arange(1,40,5)\n",
    "    \n",
    "}\n",
    "\n",
    "GBAgrid_model = model_selection.GridSearchCV(estimator = GradientBoostingClassifier(random_state=42), param_grid = param_grid, \n",
    "                                 cv = 5, n_jobs = -1, scoring='f1',verbose = 1, return_train_score=True)\n",
    "\n",
    "GBAgrid_model.fit(combined_x_train,combined_y_train)\n",
    "\n",
    "print(evaluate(GBAgrid_model, combined_x_test,combined_y_test))\n",
    "\n",
    "print(GBAgrid_model.best_params_)\n",
    "\n",
    "scores_of_models = []\n",
    "base_model = GradientBoostingClassifier(n_estimators = 10, random_state = 42)\n",
    "base_model.fit(combined_x_train, combined_y_train)\n",
    "scores_of_models.append((base_model.get_params, evaluate(base_model, combined_x_test,combined_y_test)))\n",
    "scores_of_models.append((GBAgrid_model.best_params_, evaluate(GBAgrid_model, combined_x_test,combined_y_test)))\n",
    "print(scores_of_models)\n"
   ]
  },
  {
   "cell_type": "code",
   "execution_count": 194,
   "metadata": {},
   "outputs": [
    {
     "name": "stdout",
     "output_type": "stream",
     "text": [
      "Fitting 5 folds for each of 24 candidates, totalling 120 fits\n",
      "[(<bound method BaseEstimator.get_params of GradientBoostingClassifier(n_estimators=10, random_state=42)>, 0.9403973509933775), ({'max_depth': 16, 'max_features': 1, 'n_estimators': 31}, 0.9333333333333333), ({'max_depth': 13, 'n_estimators': 19}, 0.9115646258503401), ({'max_depth': 1, 'n_estimators': 34}, 0.8827586206896552), ({'max_depth': 22, 'n_estimators': 25}, 0.9054054054054055), ({'max_depth': 10, 'n_estimators': 28}, 0.9041095890410958), ({'max_depth': 4, 'n_estimators': 25}, 0.912751677852349), ({'max_depth': 19, 'n_estimators': 34}, 0.8979591836734694), ({'max_depth': 1, 'n_estimators': 34}, 0.8827586206896552), ({'max_depth': 16, 'n_estimators': 28}, 0.912751677852349), ({'max_depth': 3, 'n_estimators': 29}, 0.912751677852349), ({'max_depth': 2, 'n_estimators': 28}, 0.912751677852349), ({'max_depth': 7}, 0.9066666666666666), ({'max_depth': 5}, 0.9403973509933775), ({'max_depth': 5}, 0.9403973509933775), ({'max_depth': 5}, 0.9403973509933775), ({'max_depth': 1}, 0.8918918918918919), ({'max_depth': 20}, 0.9041095890410958), ({'max_depth': 5}, 0.9333333333333333), ({'max_depth': 5}, 0.9342105263157895), ({'max_depth': 5}, 0.9403973509933775), ({'max_depth': 20}, 0.9103448275862068), ({'max_depth': 5}, 0.9342105263157895), ({'max_depth': 3}, 0.9054054054054055), ({'max_depth': 4}, 0.9342105263157895), ({'max_depth': 5}, 0.9333333333333333), ({'max_depth': 5}, 0.9333333333333333), ({'max_depth': 5}, 0.9342105263157895), ({'max_depth': 20}, 0.9103448275862068), ({'max_depth': 22}, 0.9027777777777778), ({'max_depth': 21}, 0.9103448275862068)]\n"
     ]
    },
    {
     "data": {
      "image/png": "[encoded data removed]",
      "text/plain": [
       "<Figure size 864x432 with 1 Axes>"
      ]
     },
     "metadata": {},
     "output_type": "display_data"
    }
   ],
   "source": [
    "\n",
    "\n",
    "GBAgrid_model = model_selection.GridSearchCV(estimator = GradientBoostingClassifier(max_features=100, n_estimators=12, max_depth=10, min_samples_leaf=0.001), param_grid = param_grid, \n",
    "                                 cv = 5, n_jobs = -1, scoring='f1',verbose = 1, return_train_score=True)\n",
    "GBAgrid_model.fit(combined_x_train,combined_y_train)\n",
    "scores_of_models.append((GBAgrid_model.best_params_, evaluate(GBAgrid_model, combined_x_test,combined_y_test)))\n",
    "print(scores_of_models)\n",
    "temp_scores = []\n",
    "for i in scores_of_models:\n",
    "    temp_scores.append(i[1])\n",
    "plt.plot(np.arange(len(temp_scores)), temp_scores, '-', label = 'combined gridsearch test')\n",
    "plt.legend()\n",
    "plt.ylabel('f1 score')\n",
    "plt.ylim(ymin = 0.9, ymax = 1)\n",
    "plt.show()"
   ]
  },
  {
   "cell_type": "code",
   "execution_count": 135,
   "metadata": {},
   "outputs": [
    {
     "data": {
      "text/plain": [
       "0.912751677852349"
      ]
     },
     "execution_count": 135,
     "metadata": {},
     "output_type": "execute_result"
    }
   ],
   "source": [
    "evaluate(GradientBoostingClassifier(max_depth= 14,n_estimators= 172,random_state=42, max_features=1, learning_rate=0.5841899999999809, subsample=1).fit(combined_x_train,combined_y_train),combined_x_test,combined_y_test)"
   ]
  },
  {
   "attachments": {},
   "cell_type": "markdown",
   "metadata": {},
   "source": [
    "removing mitosis let's see what happens"
   ]
  },
  {
   "cell_type": "code",
   "execution_count": 196,
   "metadata": {},
   "outputs": [],
   "source": [
    "\n",
    "columns = dataset.columns.tolist()\n",
    "columns = [c for c in columns if c not in ['Class','ID', 'Mitoses']]\n",
    "remove_X = dataset[columns]"
   ]
  },
  {
   "cell_type": "code",
   "execution_count": 197,
   "metadata": {},
   "outputs": [
    {
     "name": "stdout",
     "output_type": "stream",
     "text": [
      "Mean Training Accuracy:  100.0 \n",
      "Mean Training Precision:  1.0 \n",
      "Mean Training Recall:  1.0 \n",
      "Mean Training F1 Score:  1.0 \n",
      "Mean Validation Accuracy:  95.28160328879753 \n",
      "Mean Validation Precision:  0.9460735278011025 \n",
      "Mean Validation Recall:  0.9169217687074831 \n",
      "Mean Validation F1 Score:  0.9301078514304587\n"
     ]
    }
   ],
   "source": [
    "scoring = ['accuracy', 'precision', 'recall', 'f1']\n",
    "\n",
    "results = model_selection.cross_validate(\n",
    "        estimator=GradientBoostingClassifier(), X=remove_X, y=y, cv=5, scoring=scoring, return_train_score=True)\n",
    "print(\"Mean Training Accuracy: \", results['train_accuracy'].mean()*100,\n",
    "          \"\\nMean Training Precision: \", results['train_precision'].mean(),\n",
    "          \"\\nMean Training Recall: \", results['train_recall'].mean(),\n",
    "          \"\\nMean Training F1 Score: \", results['train_f1'].mean(),\n",
    "          \"\\nMean Validation Accuracy: \", results['test_accuracy'].mean()*100,\n",
    "          \"\\nMean Validation Precision: \", results['test_precision'].mean(),\n",
    "          \"\\nMean Validation Recall: \", results['test_recall'].mean(),\n",
    "          \"\\nMean Validation F1 Score: \", results['test_f1'].mean()\n",
    "          )"
   ]
  }
 ],
 "metadata": {
  "kernelspec": {
   "display_name": "Python 3",
   "language": "python",
   "name": "python3"
  },
  "language_info": {
   "codemirror_mode": {
    "name": "ipython",
    "version": 3
   },
   "file_extension": ".py",
   "mimetype": "text/x-python",
   "name": "python",
   "nbconvert_exporter": "python",
   "pygments_lexer": "ipython3",
   "version": "3.9.7"
  },
  "orig_nbformat": 4,
  "vscode": {
   "interpreter": {
    "hash": "aee8b7b246df8f9039afb4144a1f6fd8d2ca17a180786b69acc140d282b71a49"
   }
  }
 },
 "nbformat": 4,
 "nbformat_minor": 2
}
