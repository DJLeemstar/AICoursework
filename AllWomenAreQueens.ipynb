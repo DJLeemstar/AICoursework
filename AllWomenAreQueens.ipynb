{
 "cells": [
  {
   "cell_type": "code",
   "execution_count": null,
   "metadata": {},
   "outputs": [],
   "source": [
    "import pandas as pd\n",
    "from pandas.plotting import scatter_matrix\n",
    "import numpy as np\n",
    "from numpy import mean\n",
    "from numpy import std\n",
    "import seaborn as sns\n",
    "import matplotlib.pyplot as plt\n",
    "from sklearn import model_selection\n",
    "from sklearn.model_selection import train_test_split\n",
    "from sklearn.model_selection import cross_val_score\n",
    "from sklearn.model_selection import RepeatedStratifiedKFold\n",
    "from sklearn.metrics import classification_report\n",
    "from sklearn.metrics import accuracy_score\n",
    "from sklearn.datasets import make_classification\n",
    "from sklearn.ensemble import GradientBoostingClassifier\n",
    "from sklearn.svm import SVC\n",
    "from sklearn.ensemble import RandomForestClassifier, BaggingClassifier\n",
    "import matplotlib.pyplot as plt\n",
    "import seaborn as sns\n",
    "from yellowbrick.classifier import ROCAUC\n",
    "from sklearn.metrics import f1_score, precision_score, recall_score\n",
    "from yellowbrick.classifier import PrecisionRecallCurve\n",
    "from yellowbrick.classifier import ConfusionMatrix\n",
    "\n",
    "dataFrame = pd.read_csv(r\"C:\\Users\\TIM\\Desktop\\BCD-Copy.csv\")\n",
    "\n",
    "dataFrame.replace('?', -99999, inplace=True)\n",
    "columns = dataFrame.columns.tolist()\n",
    "columns = [c for c in columns if c not in [\"Class\", \"Sample code number\"]]\n",
    "target = \"Class\"\n",
    "X = dataFrame[columns]\n",
    "Y = dataFrame[target]\n",
    "\n",
    "X_train, X_test, Y_train, Y_test = model_selection.train_test_split(X, Y, test_size = 0.3)  # test ~ x training ~ y\n",
    "kfold = model_selection.KFold(n_splits=5, shuffle=True, random_state=42)"
   ]
  },
  {
   "cell_type": "code",
   "execution_count": null,
   "metadata": {},
   "outputs": [],
   "source": [
    "GBA = GradientBoostingClassifier(learning_rate=0.58419,n_estimators=172, max_depth=14, min_samples_split=201, min_samples_leaf=5, subsample=1, random_state=42, max_features=1, warm_start=True)\n",
    "GBA.fit(X_train, Y_train)\n",
    "GBA_scores = cross_val_score(GBA, X_train, Y_train, cv=kfold, scoring='accuracy')\n",
    "\n",
    "SVM = SVC(C = 19.0, gamma = 9.200000000000001e-05)\n",
    "SVM.fit(X_train,Y_train)\n",
    "SVM_scores = cross_val_score(SVM, X_train, Y_train, cv=kfold, scoring='accuracy')\n",
    "\n",
    "RFM = RandomForestClassifier(max_depth=5, max_features=1, min_samples_leaf=2, min_samples_split=20, n_estimators=38, random_state=42)\n",
    "RFM.fit(X_train,Y_train)\n",
    "RFM_scores = cross_val_score(RFM, X_train, Y_train, cv=kfold, scoring='accuracy')"
   ]
  },
  {
   "cell_type": "code",
   "execution_count": null,
   "metadata": {},
   "outputs": [],
   "source": [
    "\n",
    "predicted_label1 = GBA.predict(X_test)\n",
    "predicted_label2 = SVM.predict(X_test)\n",
    "predicted_label3 = RFM.predict(X_test)\n",
    "\n",
    "accuracy_model1 = accuracy_score(Y_test, predicted_label1)\n",
    "accuracy_model2 = accuracy_score(Y_test, predicted_label2)\n",
    "accuracy_model3 = accuracy_score(Y_test, predicted_label3)\n",
    "\n",
    "sns.barplot(x=[\"GBA\", \"SVM\", \"RFA\"], y=[accuracy_model1, accuracy_model2, accuracy_model3])\n",
    "\n",
    "   \n",
    "plt.title(\"Comparison of Model Accuracy\")\n",
    "plt.xlabel(\"Model\")\n",
    "plt.ylabel(\"Accuracy\")\n",
    "plt.ylim(ymin = 0.9, ymax = 1)\n",
    "plt.show()"
   ]
  },
  {
   "cell_type": "code",
   "execution_count": null,
   "metadata": {},
   "outputs": [],
   "source": [
    "viz = PrecisionRecallCurve(GBA, fill_area= False)\n",
    "viz.fit(X_train, Y_train)\n",
    "viz.score(X_test, Y_test)\n",
    "\n",
    "viz2 = PrecisionRecallCurve(SVM, fill_area= False)\n",
    "viz2.fit(X_train, Y_train)\n",
    "viz2.score(X_test, Y_test)\n",
    "\n",
    "viz2 = PrecisionRecallCurve(RFM, fill_area= False)\n",
    "viz2.fit(X_train, Y_train)\n",
    "viz2.score(X_test, Y_test)\n",
    "\n",
    "viz.show()"
   ]
  },
  {
   "cell_type": "code",
   "execution_count": null,
   "metadata": {},
   "outputs": [],
   "source": [
    "f1_GBA = f1_score(Y_test, predicted_label1)\n",
    "f1_SVM = f1_score(Y_test, predicted_label2)\n",
    "f1_RFM = f1_score(Y_test, predicted_label3)\n",
    "\n",
    "f1_data = {'model': ['Gradient Boosting', 'SVM', 'Random Forest'], 'f1_score': [f1_GBA, f1_SVM, f1_RFM]}\n",
    "sns.barplot(x=f1_data['model'], y=f1_data['f1_score']) \n",
    "plt.title(\"Comparison of Model F1 Score\")\n",
    "plt.xlabel(\"Model\")\n",
    "plt.ylabel(\"F1 Score\")\n",
    "plt.ylim(ymin = 0.9, ymax = 1)\n",
    "plt.show()"
   ]
  },
  {
   "cell_type": "code",
   "execution_count": null,
   "metadata": {},
   "outputs": [],
   "source": [
    "visualizer = ROCAUC(GBA, classes=[\"malignant\", \"benign\"], binary = True)\n",
    "visualizer.fit(X_train, Y_train)\n",
    "visualizer.score(X_test, Y_test)\n",
    "\n",
    "visualizer2 = ROCAUC(SVM, classes=[\"malignant\", \"benign\"], binary = True)\n",
    "visualizer2.fit(X_train, Y_train)\n",
    "visualizer2.score(X_test, Y_test)\n",
    "\n",
    "visualizer3 = ROCAUC(RFM, classes=[\"malignant\", \"benign\"], binary = True)\n",
    "visualizer3.fit(X_train, Y_train)\n",
    "visualizer3.score(X_test, Y_test)\n",
    "    \n",
    "visualizer.show()"
   ]
  },
  {
   "cell_type": "code",
   "execution_count": null,
   "metadata": {},
   "outputs": [],
   "source": [
    "\n",
    "ConfMat_GBA = ConfusionMatrix(GBA, classes=[0,1])\n",
    "ConfMat_GBA.score(X_test, Y_test)\n",
    "ConfMat_GBA.show()\n",
    "\n",
    "ConfMat_SVM = ConfusionMatrix(SVM, classes=[0,1])\n",
    "ConfMat_SVM.score(X_test, Y_test)\n",
    "ConfMat_SVM.show()\n",
    "\n",
    "ConfMat_RFM = ConfusionMatrix(RFM, classes=[0,1])\n",
    "ConfMat_RFM.score(X_test, Y_test)\n",
    "ConfMat_RFM.show()"
   ]
  }
 ],
 "metadata": {
  "language_info": {
   "name": "python"
  },
  "orig_nbformat": 4
 },
 "nbformat": 4,
 "nbformat_minor": 2
}
